{
 "cells": [
  {
   "cell_type": "code",
   "execution_count": 11,
   "metadata": {},
   "outputs": [],
   "source": [
    "# Load all the global modules \n",
    "import numpy as np\n",
    "import torch as T\n",
    "import pytorch_lightning as pl\n",
    "import hydra\n",
    "from omegaconf import OmegaConf\n",
    "from pathlib import Path\n",
    "import pandas as pd\n",
    "import h5py\n",
    "import matplotlib.pyplot as plt"
   ]
  },
  {
   "cell_type": "code",
   "execution_count": null,
   "metadata": {},
   "outputs": [],
   "source": [
    "# Local imports\n",
    "import pyrootutils\n",
    "import os\n",
    "root = pyrootutils.setup_root(search_from=os.path.abspath(''), pythonpath=True, cwd=True, indicator=\".project-root\")\n",
    "from transit.src.utils.hydra_utils import reload_original_config"
   ]
  },
  {
   "cell_type": "code",
   "execution_count": 7,
   "metadata": {},
   "outputs": [
    {
     "name": "stdout",
     "output_type": "stream",
     "text": [
      "{'step_train_template': {'model': {'reverse_pass_mode': 'additional_input', 'network_type': 'partial_context', '_target_': 'transit.src.models.transit_model.TRANSIT', 'use_m_encodig': True, 'encoder_cfg': {'_target_': 'transit.mattstools.mattstools.modules_myy.DenseNetwork', '_partial_': True, 'act_h': 'silu', 'act_i': 'none', 'nrm': 'none', 'hddn_dim': 128, 'num_blocks': 3, 'n_lyr_pbk': 2, 'do_res': True, 'scale_output_hidden': 1.0, 'ctxt_in_inpt': True, 'ctxt_in_hddn': True, 'ctxt_in_out': False}, 'decoder_cfg': {'_target_': 'transit.mattstools.mattstools.modules_myy.DenseNetwork', '_partial_': True, 'act_h': 'silu', 'act_i': 'none', 'nrm': 'none', 'hddn_dim': 128, 'num_blocks': 3, 'n_lyr_pbk': 2, 'do_res': True, 'scale_output_hidden': 1.0, 'ctxt_in_inpt': True, 'ctxt_in_hddn': True, 'ctxt_in_out': False}, 'latent_norm': False, 'latent_dim': 8, 'loss_cfg': {'reco': {'w': 1}, 'consistency_x': {'w': 0.1}}, 'adversarial_cfg': {'mode': 'double_discriminator_priority', 'discriminator2': {'_target_': 'transit.mltools.mlp.MLP', '_partial_': True, 'outp_dim': 1, 'hddn_dim': [64, 64, 64, 64], 'ctxt_in_hddn': True, 'ctxt_in_inpt': True, 'act_h': 'prelu', 'act_o': 'sigmoid'}, 'optimizer_main': 'default.yaml', 'optimizer_d': 'default.yaml', 'warmup': 5, 'g_loss_weight': 0, 'g_loss_gen_weight': 0.2, 'every_n_steps_g': 1, 'train_dis_in_warmup': False, 'g_loss_weight_in_warmup': True, 'loss_function': 'binary_cross_entropy', 'scheduler': {'scheduler_g': {'_target_': 'torch.optim.lr_scheduler.MultiStepLR', '_partial_': True, 'milestones': [30, 100, 150, 175, 200, 250], 'gamma': 0.5}, 'scheduler_d': {'_target_': 'torch.optim.lr_scheduler.MultiStepLR', '_partial_': True, 'milestones': [30, 100, 150, 175], 'gamma': 0.5}, 'scheduler_d2': {'_target_': 'torch.optim.lr_scheduler.MultiStepLR', '_partial_': True, 'milestones': [30, 100, 150, 175], 'gamma': 0.5}}, 'gradient_clip_val': 0.1}, 'valid_plots': True, 'add_standardizing_layer': True, 'afterglow_epoch': 999999999, 'optimizer': {'_target_': 'torch.optim.AdamW', '_partial_': True, 'lr': 0.0002, 'weight_decay': 0}, 'scheduler': {'scheduler': {'_target_': 'torch.optim.lr_scheduler.CosineAnnealingLR', '_partial_': True, 'T_max': 100000, 'last_epoch': -1, 'eta_min': 0}, 'lightning': {'monitor': 'valid/log_prob', 'interval': 'step', 'frequency': 1}}}, 'do_scale_epochs': True, 'trainer': {'check_val_every_n_epoch': 1, '_target_': 'pytorch_lightning.Trainer', 'min_epochs': 1, 'max_epochs': 200, 'enable_progress_bar': True, 'accelerator': 'auto', 'devices': 1, 'precision': 32, 'default_root_dir': '/home/users/o/oleksiyu/WORK/weakly-supervised-search/user_job_runs/full_analysis_validation_1KHa12_d1903/transit/template'}, 'preprocessing_pkl': '/home/users/o/oleksiyu/WORK/weakly-supervised-search/user_job_runs/full_analysis_validation_1KHa12_d1903/transit/../data/data/preprocessor.pkl', 'project_name': 'sky_transit', 'network_name': 'TRANSITpad_v25fstd_2025-03-27_22-23-16-257759', 'ckpt_path': None, 'precision': 'high', 'compile': None, 'full_resume': False, 'seed': 12345, 'automatic_optimization': False, 'callbacks': {'model_checkpoint': {'_target_': 'pytorch_lightning.callbacks.ModelCheckpoint', 'dirpath': '/home/users/o/oleksiyu/WORK/weakly-supervised-search/user_job_runs/full_analysis_validation_1KHa12_d1903/transit/template/checkpoints', 'filename': 'min_val_loss_{epoch:03d}', 'monitor': 'valid/total_loss', 'mode': 'min', 'save_last': True, 'auto_insert_metric_name': False}, 'model_summary': {'_target_': 'pytorch_lightning.callbacks.RichModelSummary', 'max_depth': 2}, 'lr_monitor': {'_target_': 'pytorch_lightning.callbacks.LearningRateMonitor', 'logging_interval': 'step'}}, 'loggers': {'wandb': {'_target_': 'pytorch_lightning.loggers.wandb.WandbLogger', 'offline': True, 'id': None, 'log_model': False, 'project': 'sky_transit', 'name': 'TRANSITpad_v25fstd_2025-03-27_22-23-16-257759', 'save_dir': '/home/users/o/oleksiyu/WORK/weakly-supervised-search/user_job_runs/full_analysis_validation_1KHa12_d1903/transit', 'resume': False}}, 'paths': {'output_dir': '/home/users/o/oleksiyu/WORK/weakly-supervised-search/user_job_runs/full_analysis_validation_1KHa12_d1903/transit/template', 'root_dir': '/home/users/o/oleksiyu/WORK/weakly-supervised-search', 'full_path': '/home/users/o/oleksiyu/WORK/weakly-supervised-search/user_job_runs/full_analysis_validation_1KHa12_d1903/transit/template', 'wandbkey': '/home/users/o/oleksiyu/WORK/keys/wandb.key'}, 'data': {'datamodule': {'_target_': 'src.data.data.SimpleDataModule', 'train_frac': 0.8, 'train_data': {'_target_': 'src.data.data.CombDataset', 'dataset1': {'_target_': 'src.data.data.InMemoryDataFrameDict', 'list_order': ['data', 'cond'], 'file_path': '/home/users/o/oleksiyu/WORK/weakly-supervised-search/user_job_runs/full_analysis_validation_1KHa12_d1903/transit/../data/data/sb.h5', 'plotting_path': '/home/users/o/oleksiyu/WORK/weakly-supervised-search/user_job_runs/full_analysis_validation_1KHa12_d1903/transit/../data/plots/sb', 'processor_cfg': [{'_target_': 'src.data.process.ProcessorShuffle', 'random_state': 12345, 'add_seed': 1000}, {'_target_': 'src.data.process.ProcessorKeepFrames', 'frame_names_to_keep': ['data', 'cond']}]}, 'dataset2': {'_target_': 'src.data.data.InMemoryDataFrameDict', 'file_path': ['/home/users/o/oleksiyu/WORK/weakly-supervised-search/user_job_runs/full_analysis_validation_1KHa12_d1903/transit/../data/data/sb.h5', '/home/users/o/oleksiyu/WORK/weakly-supervised-search/user_job_runs/full_analysis_validation_1KHa12_d1903/transit/../data/data/sr.h5'], 'plotting_path': '/home/users/o/oleksiyu/WORK/weakly-supervised-search/user_job_runs/full_analysis_validation_1KHa12_d1903/transit/../data/plots/sbsr', 'list_order': ['mass_add'], 'processor_cfg': [{'_target_': 'src.data.process.ProcessorShuffle', 'random_state': 12345, 'add_seed': 2000}, {'_target_': 'src.data.process.ProcessorSplitDataFrameVars', 'frame_name': 'cond', 'new_df_dict': {'mass_add': ['m_jj']}}, {'_target_': 'src.data.process.ProcessorKeepFrames', 'frame_names_to_keep': ['mass_add']}]}}, 'loader_kwargs': {'pin_memory': True, 'batch_size': 2048, 'num_workers': 16, 'drop_last': True, 'persistent_workers': True}}}}, 'delete_existing_run_dir': False, 'do_train_template': 0, 'do_export_template': 0, 'do_transport_sideband': 0, 'do_export_latent': 0, 'do_evaluation': 1, 'do_cwola': 0, 'do_evaluate_cwola': 0, 'do_plot_compare': 0, 'verbose_validation': True, 'general': {'name': 'TRANSITpad_v25fstd', 'seed': 12345, 'run_dir': '/home/users/o/oleksiyu/WORK/weakly-supervised-search/user_job_runs/full_analysis_validation_1KHa12_d1903/transit', 'do_dataset_plots': False}, 'path': {'hyperproject': '/home/users/o/oleksiyu/WORK/weakly-supervised-search', 'wandbkey': '/home/users/o/oleksiyu/WORK/keys/wandb.key', 'data_dir': '/home/users/o/oleksiyu/scratch/DATA/LHCO/'}, 'data': {'training_batch_size': 2048, 'template_training': {'_target_': 'src.data.data.SimpleDataModule', 'train_frac': 0.8, 'train_data': {'_target_': 'src.data.data.CombDataset', 'dataset1': {'_target_': 'src.data.data.InMemoryDataFrameDict', 'list_order': ['data', 'cond'], 'file_path': '/home/users/o/oleksiyu/WORK/weakly-supervised-search/user_job_runs/full_analysis_validation_1KHa12_d1903/transit/../data/data/sb.h5', 'plotting_path': '/home/users/o/oleksiyu/WORK/weakly-supervised-search/user_job_runs/full_analysis_validation_1KHa12_d1903/transit/../data/plots/sb', 'processor_cfg': [{'_target_': 'src.data.process.ProcessorShuffle', 'random_state': 12345, 'add_seed': 1000}, {'_target_': 'src.data.process.ProcessorKeepFrames', 'frame_names_to_keep': ['data', 'cond']}]}, 'dataset2': {'_target_': 'src.data.data.InMemoryDataFrameDict', 'file_path': ['/home/users/o/oleksiyu/WORK/weakly-supervised-search/user_job_runs/full_analysis_validation_1KHa12_d1903/transit/../data/data/sb.h5', '/home/users/o/oleksiyu/WORK/weakly-supervised-search/user_job_runs/full_analysis_validation_1KHa12_d1903/transit/../data/data/sr.h5'], 'plotting_path': '/home/users/o/oleksiyu/WORK/weakly-supervised-search/user_job_runs/full_analysis_validation_1KHa12_d1903/transit/../data/plots/sbsr', 'list_order': ['mass_add'], 'processor_cfg': [{'_target_': 'src.data.process.ProcessorShuffle', 'random_state': 12345, 'add_seed': 2000}, {'_target_': 'src.data.process.ProcessorSplitDataFrameVars', 'frame_name': 'cond', 'new_df_dict': {'mass_add': ['m_jj']}}, {'_target_': 'src.data.process.ProcessorKeepFrames', 'frame_names_to_keep': ['mass_add']}]}}, 'loader_kwargs': {'pin_memory': True, 'batch_size': 2048, 'num_workers': 16, 'drop_last': True, 'persistent_workers': True}}, 'export_template': {'_target_': 'src.data.data.SimpleDataModule', 'train_frac': 0.8, 'train_data': None, 'test_data': {'_target_': 'src.data.data.CombDataset', 'dataset1': {'_target_': 'src.data.data.InMemoryDataFrameDict', 'list_order': ['data', 'cond'], 'file_path': '/home/users/o/oleksiyu/WORK/weakly-supervised-search/user_job_runs/full_analysis_validation_1KHa12_d1903/transit/../data/data/sb.h5', 'plotting_path': '/home/users/o/oleksiyu/WORK/weakly-supervised-search/user_job_runs/full_analysis_validation_1KHa12_d1903/transit/../data/plots/sb', 'processor_cfg': [{'_target_': 'src.data.process.ProcessorShuffle', 'random_state': 12345, 'add_seed': 1000}, {'_target_': 'src.data.process.ProcessorKeepFrames', 'frame_names_to_keep': ['data', 'cond']}]}, 'dataset2': {'_target_': 'src.data.data.InMemoryDataFrameDict', 'file_path': '/home/users/o/oleksiyu/WORK/weakly-supervised-search/user_job_runs/full_analysis_validation_1KHa12_d1903/transit/../data/data/sr.h5', 'plotting_path': '/home/users/o/oleksiyu/WORK/weakly-supervised-search/user_job_runs/full_analysis_validation_1KHa12_d1903/transit/../data/plots/sr', 'list_order': ['mass_add'], 'processor_cfg': [{'_target_': 'src.data.process.ProcessorShuffle', 'random_state': 12345, 'add_seed': 2000}, {'_target_': 'src.data.process.ProcessorSplitDataFrameVars', 'frame_name': 'cond', 'new_df_dict': {'mass_add': ['m_jj']}}, {'_target_': 'src.data.process.ProcessorKeepFrames', 'frame_names_to_keep': ['mass_add']}]}}, 'loader_kwargs': {'pin_memory': True, 'batch_size': 2048, 'num_workers': 16, 'drop_last': True, 'persistent_workers': True}}, 'evaluation': {'target_data': {'_target_': 'src.data.data.InMemoryDataFrameDict', 'file_path': '/home/users/o/oleksiyu/WORK/weakly-supervised-search/user_job_runs/full_analysis_validation_1KHa12_d1903/transit/../data/data/sr.h5', 'plotting_path': '/home/users/o/oleksiyu/WORK/weakly-supervised-search/user_job_runs/full_analysis_validation_1KHa12_d1903/transit/../data/plots/sr', 'list_order': ['mass_add'], 'processor_cfg': [{'_target_': 'src.data.process.ProcessorShuffle', 'random_state': 12345, 'add_seed': 2000}, {'_target_': 'src.data.process.ProcessorMergeFrames', 'frame_names': ['data', 'cond'], 'new_frame_name': 'data'}]}}, 'export_latent_sb': {'_target_': 'src.data.data.SimpleDataModule', 'train_frac': 0.8, 'train_data': None, 'test_data': {'_target_': 'src.data.data.InMemoryDataFrameDict', 'list_order': ['data', 'cond'], 'file_path': '/home/users/o/oleksiyu/WORK/weakly-supervised-search/user_job_runs/full_analysis_validation_1KHa12_d1903/transit/../data/data/sb.h5', 'plotting_path': '/home/users/o/oleksiyu/WORK/weakly-supervised-search/user_job_runs/full_analysis_validation_1KHa12_d1903/transit/../data/plots/sb', 'processor_cfg': [{'_target_': 'src.data.process.ProcessorShuffle', 'random_state': 12345, 'add_seed': 1000}]}, 'loader_kwargs': {'pin_memory': True, 'batch_size': 2048, 'num_workers': 16, 'drop_last': False, 'persistent_workers': True}}, 'export_latent_sr': {'_target_': 'src.data.data.SimpleDataModule', 'train_frac': 0.8, 'train_data': None, 'test_data': {'_target_': 'src.data.data.InMemoryDataFrameDict', 'list_order': ['data', 'cond'], 'file_path': '/home/users/o/oleksiyu/WORK/weakly-supervised-search/user_job_runs/full_analysis_validation_1KHa12_d1903/transit/../data/data/sr.h5', 'plotting_path': '/home/users/o/oleksiyu/WORK/weakly-supervised-search/user_job_runs/full_analysis_validation_1KHa12_d1903/transit/../data/plots/sr'}, 'loader_kwargs': {'pin_memory': True, 'batch_size': 2048, 'num_workers': 16, 'drop_last': False, 'persistent_workers': True}}, 'export_latent_tm': {'_target_': 'src.data.data.SimpleDataModule', 'train_frac': 0.8, 'train_data': None, 'test_data': {'_target_': 'src.data.data.InMemoryDataFrameDict', 'list_order': ['data', 'cond'], 'file_path': '/home/users/o/oleksiyu/WORK/weakly-supervised-search/user_job_runs/full_analysis_validation_1KHa12_d1903/transit/template/outputs/template_sample.h5', 'plotting_path': '/home/users/o/oleksiyu/WORK/weakly-supervised-search/user_job_runs/full_analysis_validation_1KHa12_d1903/transit/../data/plots/tm', 'processor_cfg': [{'_target_': 'src.data.process.ProcessorSplitDataFrameVars', 'frame_name': 'template', 'new_df_dict': {'cond': ['m_jj']}, 'rest_df': 'data'}]}, 'loader_kwargs': {'pin_memory': True, 'batch_size': 2048, 'num_workers': 16, 'drop_last': False, 'persistent_workers': True}}}, 'step_export_template': {'seed': 12345, 'data': {'_target_': 'src.data.data.SimpleDataModule', 'train_frac': 0.8, 'train_data': None, 'test_data': {'_target_': 'src.data.data.CombDataset', 'dataset1': {'_target_': 'src.data.data.InMemoryDataFrameDict', 'list_order': ['data', 'cond'], 'file_path': '/home/users/o/oleksiyu/WORK/weakly-supervised-search/user_job_runs/full_analysis_validation_1KHa12_d1903/transit/../data/data/sb.h5', 'plotting_path': '/home/users/o/oleksiyu/WORK/weakly-supervised-search/user_job_runs/full_analysis_validation_1KHa12_d1903/transit/../data/plots/sb', 'processor_cfg': [{'_target_': 'src.data.process.ProcessorShuffle', 'random_state': 12345, 'add_seed': 1000}, {'_target_': 'src.data.process.ProcessorKeepFrames', 'frame_names_to_keep': ['data', 'cond']}]}, 'dataset2': {'_target_': 'src.data.data.InMemoryDataFrameDict', 'file_path': '/home/users/o/oleksiyu/WORK/weakly-supervised-search/user_job_runs/full_analysis_validation_1KHa12_d1903/transit/../data/data/sr.h5', 'plotting_path': '/home/users/o/oleksiyu/WORK/weakly-supervised-search/user_job_runs/full_analysis_validation_1KHa12_d1903/transit/../data/plots/sr', 'list_order': ['mass_add'], 'processor_cfg': [{'_target_': 'src.data.process.ProcessorShuffle', 'random_state': 12345, 'add_seed': 2000}, {'_target_': 'src.data.process.ProcessorSplitDataFrameVars', 'frame_name': 'cond', 'new_df_dict': {'mass_add': ['m_jj']}}, {'_target_': 'src.data.process.ProcessorKeepFrames', 'frame_names_to_keep': ['mass_add']}]}}, 'loader_kwargs': {'pin_memory': True, 'batch_size': 2048, 'num_workers': 16, 'drop_last': True, 'persistent_workers': True}}, 'paths': {'full_path': '/home/users/o/oleksiyu/WORK/weakly-supervised-search/user_job_runs/full_analysis_validation_1KHa12_d1903/transit/template', 'output_dir': '/home/users/o/oleksiyu/WORK/weakly-supervised-search/user_job_runs/full_analysis_validation_1KHa12_d1903/transit/template'}, 'output_name': 'template_sample', 'get_best': False, 'project_name': 'CATHODE_LHCO', 'network_name': 'TRANSITpad_v25fstd_2025-03-27_22-23-16-257759', 'copy_to_path': '/home/users/o/oleksiyu/WORK/weakly-supervised-search/user_job_runs/full_analysis_validation_1KHa12_d1903/transit/transit_template.h5'}, 'step_evaluate': {'data': {'original_data': {'_target_': 'src.data.data.SimpleDataModule', 'train_frac': 0.8, 'train_data': None, 'test_data': {'_target_': 'src.data.data.CombDataset', 'dataset1': {'_target_': 'src.data.data.InMemoryDataFrameDict', 'list_order': ['data', 'cond'], 'file_path': '/home/users/o/oleksiyu/WORK/weakly-supervised-search/user_job_runs/full_analysis_validation_1KHa12_d1903/transit/../data/data/sb.h5', 'plotting_path': '/home/users/o/oleksiyu/WORK/weakly-supervised-search/user_job_runs/full_analysis_validation_1KHa12_d1903/transit/../data/plots/sb', 'processor_cfg': [{'_target_': 'src.data.process.ProcessorShuffle', 'random_state': 12345, 'add_seed': 1000}, {'_target_': 'src.data.process.ProcessorKeepFrames', 'frame_names_to_keep': ['data', 'cond']}]}, 'dataset2': {'_target_': 'src.data.data.InMemoryDataFrameDict', 'file_path': '/home/users/o/oleksiyu/WORK/weakly-supervised-search/user_job_runs/full_analysis_validation_1KHa12_d1903/transit/../data/data/sr.h5', 'plotting_path': '/home/users/o/oleksiyu/WORK/weakly-supervised-search/user_job_runs/full_analysis_validation_1KHa12_d1903/transit/../data/plots/sr', 'list_order': ['mass_add'], 'processor_cfg': [{'_target_': 'src.data.process.ProcessorShuffle', 'random_state': 12345, 'add_seed': 2000}, {'_target_': 'src.data.process.ProcessorSplitDataFrameVars', 'frame_name': 'cond', 'new_df_dict': {'mass_add': ['m_jj']}}, {'_target_': 'src.data.process.ProcessorKeepFrames', 'frame_names_to_keep': ['mass_add']}]}}, 'loader_kwargs': {'pin_memory': True, 'batch_size': 2048, 'num_workers': 16, 'drop_last': True, 'persistent_workers': True}}, 'target_data': {'_target_': 'src.data.data.InMemoryDataFrameDict', 'file_path': '/home/users/o/oleksiyu/WORK/weakly-supervised-search/user_job_runs/full_analysis_validation_1KHa12_d1903/transit/../data/data/sr.h5', 'plotting_path': '/home/users/o/oleksiyu/WORK/weakly-supervised-search/user_job_runs/full_analysis_validation_1KHa12_d1903/transit/../data/plots/sr', 'list_order': ['mass_add'], 'processor_cfg': [{'_target_': 'src.data.process.ProcessorShuffle', 'random_state': 12345, 'add_seed': 2000}, {'_target_': 'src.data.process.ProcessorMergeFrames', 'frame_names': ['data', 'cond'], 'new_frame_name': 'data'}]}, 'template_file': '/home/users/o/oleksiyu/WORK/weakly-supervised-search/user_job_runs/full_analysis_validation_1KHa12_d1903/transit/template/outputs/template_sample.h5', 'laSB_file': '/home/users/o/oleksiyu/WORK/weakly-supervised-search/user_job_runs/full_analysis_validation_1KHa12_d1903/transit/template/outputs/latransit_sb.h5', 'laSR_file': '/home/users/o/oleksiyu/WORK/weakly-supervised-search/user_job_runs/full_analysis_validation_1KHa12_d1903/transit/template/outputs/latransit_sr.h5', 'laTM_file': '/home/users/o/oleksiyu/WORK/weakly-supervised-search/user_job_runs/full_analysis_validation_1KHa12_d1903/transit/template/outputs/latransit_tm.h5'}, 'x_bounds': [None, None], 'debug_eval': False, 'get_best': False, 'do_2d_hist_instead_of_contour': True, 'plot_everything_else': False, 'procedures': None, 'n_max_class_train': 10000}, 'step_export_latent': {'export_latent_all': {'seed': 12345, 'data': {'_target_': 'src.data.data.SimpleDataModule', 'train_frac': 0.8, 'train_data': None, 'test_data': {'_target_': 'src.data.data.InMemoryDataFrameDict', 'list_order': ['data', 'cond'], 'file_path': '/home/users/o/oleksiyu/WORK/weakly-supervised-search/user_job_runs/full_analysis_validation_1KHa12_d1903/transit/template/outputs/template_sample.h5', 'plotting_path': '/home/users/o/oleksiyu/WORK/weakly-supervised-search/user_job_runs/full_analysis_validation_1KHa12_d1903/transit/../data/plots/tm', 'processor_cfg': [{'_target_': 'src.data.process.ProcessorSplitDataFrameVars', 'frame_name': 'template', 'new_df_dict': {'cond': ['m_jj']}, 'rest_df': 'data'}]}, 'loader_kwargs': {'pin_memory': True, 'batch_size': 2048, 'num_workers': 16, 'drop_last': False, 'persistent_workers': True}}, 'paths': {'full_path': '/home/users/o/oleksiyu/WORK/weakly-supervised-search/user_job_runs/full_analysis_validation_1KHa12_d1903/transit/template', 'output_dir': '/home/users/o/oleksiyu/WORK/weakly-supervised-search/user_job_runs/full_analysis_validation_1KHa12_d1903/transit/'}, 'output_name': 'latransit_tm', 'get_best': False, 'network_name': 'TRANSITpad_v25fstd_2025-03-27_22-23-16-257759', 'latent_df_key': 'data', 'retain_dfs': ['orig', 'is_signal']}}}\n"
     ]
    }
   ],
   "source": [
    "# Get hydra configs\n",
    "config_file = \"/home/users/o/oleksiyu/WORK/weakly-supervised-search/user_job_runs/full_analysis_validation_1KHa12_d1903/transit/full_config.yaml\"\n",
    "cfg = OmegaConf.load(config_file)\n",
    "print(cfg)"
   ]
  },
  {
   "cell_type": "code",
   "execution_count": 10,
   "metadata": {},
   "outputs": [
    {
     "name": "stdout",
     "output_type": "stream",
     "text": [
      "Loaded dataset cond from /home/users/o/oleksiyu/WORK/weakly-supervised-search/user_job_runs/full_analysis_validation_1KHa12_d1903/transit/../data/data/sb.h5\n",
      "Loaded dataset data from /home/users/o/oleksiyu/WORK/weakly-supervised-search/user_job_runs/full_analysis_validation_1KHa12_d1903/transit/../data/data/sb.h5\n",
      "Loaded dataset is_signal from /home/users/o/oleksiyu/WORK/weakly-supervised-search/user_job_runs/full_analysis_validation_1KHa12_d1903/transit/../data/data/sb.h5\n",
      "Loaded dataset orig from /home/users/o/oleksiyu/WORK/weakly-supervised-search/user_job_runs/full_analysis_validation_1KHa12_d1903/transit/../data/data/sb.h5\n",
      "Loaded dataset cond from ['/home/users/o/oleksiyu/WORK/weakly-supervised-search/user_job_runs/full_analysis_validation_1KHa12_d1903/transit/../data/data/sb.h5', '/home/users/o/oleksiyu/WORK/weakly-supervised-search/user_job_runs/full_analysis_validation_1KHa12_d1903/transit/../data/data/sr.h5']\n",
      "Loaded dataset data from ['/home/users/o/oleksiyu/WORK/weakly-supervised-search/user_job_runs/full_analysis_validation_1KHa12_d1903/transit/../data/data/sb.h5', '/home/users/o/oleksiyu/WORK/weakly-supervised-search/user_job_runs/full_analysis_validation_1KHa12_d1903/transit/../data/data/sr.h5']\n",
      "Loaded dataset is_signal from ['/home/users/o/oleksiyu/WORK/weakly-supervised-search/user_job_runs/full_analysis_validation_1KHa12_d1903/transit/../data/data/sb.h5', '/home/users/o/oleksiyu/WORK/weakly-supervised-search/user_job_runs/full_analysis_validation_1KHa12_d1903/transit/../data/data/sr.h5']\n",
      "Loaded dataset orig from ['/home/users/o/oleksiyu/WORK/weakly-supervised-search/user_job_runs/full_analysis_validation_1KHa12_d1903/transit/../data/data/sb.h5', '/home/users/o/oleksiyu/WORK/weakly-supervised-search/user_job_runs/full_analysis_validation_1KHa12_d1903/transit/../data/data/sr.h5']\n",
      "Loaded dataset cond from ['/home/users/o/oleksiyu/WORK/weakly-supervised-search/user_job_runs/full_analysis_validation_1KHa12_d1903/transit/../data/data/sb.h5', '/home/users/o/oleksiyu/WORK/weakly-supervised-search/user_job_runs/full_analysis_validation_1KHa12_d1903/transit/../data/data/sr.h5']\n",
      "Loaded dataset data from ['/home/users/o/oleksiyu/WORK/weakly-supervised-search/user_job_runs/full_analysis_validation_1KHa12_d1903/transit/../data/data/sb.h5', '/home/users/o/oleksiyu/WORK/weakly-supervised-search/user_job_runs/full_analysis_validation_1KHa12_d1903/transit/../data/data/sr.h5']\n",
      "Loaded dataset is_signal from ['/home/users/o/oleksiyu/WORK/weakly-supervised-search/user_job_runs/full_analysis_validation_1KHa12_d1903/transit/../data/data/sb.h5', '/home/users/o/oleksiyu/WORK/weakly-supervised-search/user_job_runs/full_analysis_validation_1KHa12_d1903/transit/../data/data/sr.h5']\n",
      "Loaded dataset orig from ['/home/users/o/oleksiyu/WORK/weakly-supervised-search/user_job_runs/full_analysis_validation_1KHa12_d1903/transit/../data/data/sb.h5', '/home/users/o/oleksiyu/WORK/weakly-supervised-search/user_job_runs/full_analysis_validation_1KHa12_d1903/transit/../data/data/sr.h5']\n",
      "Training dataset loaded using cofig\n",
      "Validation dataset is split from training with fraction 0.20\n",
      "No test dataset set\n",
      "Sample batch from training dataset: [tensor([[-1.3090,  0.5066, -0.3006,  ..., -1.5356,  0.1961,  1.6375],\n",
      "        [ 3.6577,  2.6737,  5.0889,  ...,  0.1648, -0.6510, -0.2837],\n",
      "        [-1.3090, -0.7937, -0.4541,  ...,  0.2253, -0.6540,  1.7834],\n",
      "        ...,\n",
      "        [ 1.3654,  0.5066,  1.2262,  ...,  0.7548, -0.2467, -1.6313],\n",
      "        [ 0.6013,  2.6737,  1.2048,  ..., -1.3778, -0.4444, -0.1461],\n",
      "        [-0.5449,  1.3734, -0.2042,  ..., -0.1385,  0.1396,  0.3503]]), tensor([[0.6450],\n",
      "        [0.9451],\n",
      "        [0.6461],\n",
      "        ...,\n",
      "        [0.0073],\n",
      "        [0.6556],\n",
      "        [0.1918]]), tensor([[0.0688],\n",
      "        [0.5946],\n",
      "        [0.1472],\n",
      "        ...,\n",
      "        [0.3092],\n",
      "        [0.0073],\n",
      "        [0.6212]])]\n"
     ]
    }
   ],
   "source": [
    "# Get the training dataset\n",
    "datamodule = hydra.utils.instantiate(cfg.data.template_training)\n",
    "datamodule.setup(stage=\"fit\")\n",
    "train_dataloader = datamodule.train_dataloader()\n",
    "batch = next(iter(train_dataloader))\n",
    "print(\"Sample batch from training dataset:\", batch)"
   ]
  },
  {
   "cell_type": "code",
   "execution_count": 14,
   "metadata": {},
   "outputs": [
    {
     "data": {
      "text/plain": [
       "(array([203., 192., 153., 132., 120., 109.,  89.,  95.,  95.,  81.,  66.,\n",
       "         56.,  67.,  44.,  40.,  49.,  41.,  41.,  30.,  36.,  29.,  21.,\n",
       "         22.,  28.,  18.,  30.,  22.,  25.,  12.,  14.,   9.,  16.,  13.,\n",
       "          7.,  11.,   7.,   8.,   3.,   8.,   6.]),\n",
       " array([4.58129478e-04, 2.54082438e-02, 5.03583588e-02, 7.53084719e-02,\n",
       "        1.00258589e-01, 1.25208706e-01, 1.50158823e-01, 1.75108939e-01,\n",
       "        2.00059056e-01, 2.25009173e-01, 2.49959275e-01, 2.74909407e-01,\n",
       "        2.99859524e-01, 3.24809641e-01, 3.49759728e-01, 3.74709845e-01,\n",
       "        3.99659961e-01, 4.24610078e-01, 4.49560195e-01, 4.74510312e-01,\n",
       "        4.99460429e-01, 5.24410546e-01, 5.49360693e-01, 5.74310780e-01,\n",
       "        5.99260867e-01, 6.24211013e-01, 6.49161100e-01, 6.74111247e-01,\n",
       "        6.99061334e-01, 7.24011481e-01, 7.48961568e-01, 7.73911715e-01,\n",
       "        7.98861802e-01, 8.23811948e-01, 8.48762035e-01, 8.73712182e-01,\n",
       "        8.98662269e-01, 9.23612416e-01, 9.48562503e-01, 9.73512650e-01,\n",
       "        9.98462737e-01]),\n",
       " <BarContainer object of 40 artists>)"
      ]
     },
     "execution_count": 14,
     "metadata": {},
     "output_type": "execute_result"
    },
    {
     "data": {
      "image/png": "[encoded data removed]",
      "text/plain": [
       "<Figure size 640x480 with 1 Axes>"
      ]
     },
     "metadata": {},
     "output_type": "display_data"
    }
   ],
   "source": [
    "plt.hist(batch[1].numpy(), bins=40)\n",
    "plt.hist(batch[2].numpy(), bins=40)"
   ]
  },
  {
   "cell_type": "code",
   "execution_count": 17,
   "metadata": {},
   "outputs": [
    {
     "name": "stdout",
     "output_type": "stream",
     "text": [
      "SELECTED NETWORK TYPE:  partial_context\n",
      "Dequantization layer added\n",
      "TRANSIT(\n",
      "  (encoder1): \n",
      "    (inp): 7(1)->Linear->128\n",
      "    (h-1): 128(1)->Linear->SiLU->Linear->SiLU->Scaling->128(add)\n",
      "    (h-2): 128(1)->Linear->SiLU->Linear->SiLU->Scaling->128(add)\n",
      "    (out): 128->Linear->8\n",
      "  (decoder): \n",
      "    (inp): 8(1)->Linear->128\n",
      "    (h-1): 128(1)->Linear->SiLU->Linear->SiLU->Scaling->128(add)\n",
      "    (h-2): 128(1)->Linear->SiLU->Linear->SiLU->Scaling->128(add)\n",
      "    (out): 128->Linear->7\n",
      "  (discriminator2): \n",
      "    (inp): 7(1)->Linear->PReLU->64\n",
      "    (h-1): 64(1)->Linear->PReLU->64\n",
      "    (h-2): 64(1)->Linear->PReLU->64\n",
      "    (h-3): 64(1)->Linear->PReLU->64\n",
      "    (out): 64->Linear->Sigmoid->1\n",
      "  (std_layer_x): IterativeNormLayer([1, 7])\n",
      "  (std_layer_ctxt): IterativeNormLayer([1, 1])\n",
      "  (dequantization_layer): SelectiveDequantizationTransform()\n",
      "  (DisCO_loss): DistanceCorrelation()\n",
      "  (pearson_loss): PearsonCorrelation()\n",
      ")\n"
     ]
    }
   ],
   "source": [
    "# Load the model from the last checkpoint\n",
    "device = \"cuda\" if T.cuda.is_available() else \"cpu\"\n",
    "model_class = hydra.utils.get_class(cfg.step_train_template.model._target_)\n",
    "model = model_class.load_from_checkpoint(\"/home/users/o/oleksiyu/WORK/weakly-supervised-search/user_job_runs/full_analysis_validation_1KHa12_d1903/transit/template/checkpoints/last.ckpt\", map_location=device)\n",
    "model.eval()\n",
    "print(model)"
   ]
  },
  {
   "cell_type": "code",
   "execution_count": 29,
   "metadata": {},
   "outputs": [
    {
     "name": "stderr",
     "output_type": "stream",
     "text": [
      "/home/users/o/oleksiyu/.local/lib/python3.11/site-packages/pytorch_lightning/core/module.py:436: You are trying to `self.log()` but the `self.trainer` reference is not registered on the model yet. This is most likely because the model hasn't been passed to the `Trainer`\n"
     ]
    }
   ],
   "source": [
    "out = model._shared_step(batch, step_type=\"valid\")"
   ]
  },
  {
   "cell_type": "code",
   "execution_count": 26,
   "metadata": {},
   "outputs": [
    {
     "data": {
      "text/plain": [
       "(tensor(1.5198e-05, grad_fn=<AddBackward0>),\n",
       " tensor([[-0.3915,  0.2159, -0.1910,  ..., -1.3700,  1.2516,  0.3398],\n",
       "         [-0.2256, -0.0346,  0.8602,  ...,  1.6060, -1.1756,  2.5226],\n",
       "         [ 1.0225, -0.3291,  0.7053,  ..., -0.9519,  0.7124, -0.6403],\n",
       "         ...,\n",
       "         [-0.1372, -1.3162,  0.7488,  ...,  1.1636, -0.9896,  1.6429],\n",
       "         [-0.5244,  0.3124, -0.0610,  ..., -0.5707,  0.9145,  2.1415],\n",
       "         [-0.2744,  0.4524, -0.0401,  ..., -0.0160,  0.2629,  0.1750]],\n",
       "        grad_fn=<AddmmBackward0>),\n",
       " tensor([[ 1.7368],\n",
       "         [ 2.9944],\n",
       "         [ 1.7417],\n",
       "         ...,\n",
       "         [-0.9351],\n",
       "         [ 1.7815],\n",
       "         [-0.1620]]),\n",
       " tensor([[-1.4234,  0.4353, -0.3046,  ..., -1.5390,  0.1947,  1.6263],\n",
       "         [ 3.8136,  2.6919,  5.0876,  ...,  0.1576, -0.6521, -0.2882],\n",
       "         [-1.4712, -0.6806, -0.4581,  ...,  0.2180, -0.6552,  1.7716],\n",
       "         ...,\n",
       "         [ 1.2199,  0.3824,  1.2230,  ...,  0.7464, -0.2479, -1.6310],\n",
       "         [ 0.5291,  2.7273,  1.2017,  ..., -1.3816, -0.4456, -0.1510],\n",
       "         [-0.4939,  1.2169, -0.2080,  ..., -0.1450,  0.1383,  0.3436]]),\n",
       " tensor([[ 1.7368],\n",
       "         [ 2.9944],\n",
       "         [ 1.7417],\n",
       "         ...,\n",
       "         [-0.9351],\n",
       "         [ 1.7815],\n",
       "         [-0.1620]]))"
      ]
     },
     "execution_count": 26,
     "metadata": {},
     "output_type": "execute_result"
    }
   ],
   "source": [
    "out"
   ]
  },
  {
   "cell_type": "code",
   "execution_count": null,
   "metadata": {},
   "outputs": [],
   "source": []
  }
 ],
 "metadata": {
  "kernelspec": {
   "display_name": "base",
   "language": "python",
   "name": "python3"
  },
  "language_info": {
   "codemirror_mode": {
    "name": "ipython",
    "version": 3
   },
   "file_extension": ".py",
   "mimetype": "text/x-python",
   "name": "python",
   "nbconvert_exporter": "python",
   "pygments_lexer": "ipython3",
   "version": "3.11.9"
  }
 },
 "nbformat": 4,
 "nbformat_minor": 2
}
